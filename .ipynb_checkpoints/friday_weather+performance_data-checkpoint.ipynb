{
 "cells": [
  {
   "cell_type": "markdown",
   "metadata": {},
   "source": [
    "# friday weather performance data"
   ]
  },
  {
   "cell_type": "code",
   "execution_count": 1,
   "metadata": {},
   "outputs": [],
   "source": [
    "def set_client(host_nm: str):\n",
    "    from pymongo import MongoClient\n",
    "    ci = {\n",
    "        'raw_innet': (\n",
    "                    '10.140.0.52:20001', 'eventuser', '1u03zj6u62j/4', 'events'),\n",
    "        'raw_outnet': (\n",
    "            '35.236.180.233:20001', 'eventuser', '1u03zj6u62j/4', 'events'),\n",
    "        'alfred_outnet': (\n",
    "            '35.194.200.228:27017', 'batuser', '1u03zj6u62j/4', 'alfred'),\n",
    "        'alfred_innet': (\n",
    "            '10.140.0.33:27017', 'batuser', '1u03zj6u62j/4', 'alfred'),\n",
    "        'friDay_outnet':(\n",
    "            '35.194.200.228:27017', 'batuser', '1u03zj6u62j/4', 'friDay'),\n",
    "        'friDay_innet':(\n",
    "            '10.140.0.33:27017', 'batuser', '1u03zj6u62j/4', 'friDay'),\n",
    "        'meteor':(\n",
    "            '35.201.252.6:20001', 'sara', '1u03zj6u62j/4', 'meteor'),\n",
    "        'local_db': (\n",
    "            'mongodb://localhost:27017/')\n",
    "    }\n",
    "    if host_nm == 'local_db':\n",
    "        host = ci[host_nm]\n",
    "        cli = MongoClient(host)\n",
    "    elif host_nm in ci:\n",
    "        host, unm, pwd, auth_db = ci[host_nm]\n",
    "        cli = MongoClient(host=host, username=unm, password=pwd,\n",
    "                    authSource=auth_db, authMechanism='SCRAM-SHA-1')\n",
    "    else:\n",
    "        return 'Hint: Wrong host name!'\n",
    "    return (cli)\n",
    "\n",
    "def current_time():\n",
    "    import datetime\n",
    "    curTime = datetime.datetime.now()\n",
    "    curTime = curTime.strftime('%Y-%m-%d %H:%M:%S')\n",
    "    return curTime"
   ]
  },
  {
   "cell_type": "code",
   "execution_count": 24,
   "metadata": {},
   "outputs": [],
   "source": [
    "# connect to db\n",
    "cli = set_client(\"friDay_outnet\")\n",
    "coll = cli.friDay.prd_category\n",
    "curFind = coll.find({'ID':{'$exists':True}})\n",
    "dic = dict()\n",
    "for x in curFind:\n",
    "    store = x[\"HOUSE_ID\"]\n",
    "    categoryNm = x[\"NAME\"]\n",
    "    parentId = x[\"PARENT_ID\"]\n",
    "    level1Id = x[\"ID\"]\n",
    "    dic[level1Id] = [categoryNm, store, parentId]"
   ]
  },
  {
   "cell_type": "code",
   "execution_count": 64,
   "metadata": {},
   "outputs": [
    {
     "data": {
      "text/plain": [
       "52"
      ]
     },
     "execution_count": 64,
     "metadata": {},
     "output_type": "execute_result"
    }
   ],
   "source": [
    "#initial file\n",
    "writeF = open('/home/parallels/Desktop/friDay_weather_perfromance.csv', \"w\", encoding='utf8')\n",
    "colStr = 'orderId@memId@dealId@orderDay@storeId@level1Id@name'\n",
    "writeF.write(colStr+\"\\n\")\n",
    "#str(orderId) +\"@\"+ str(memId) + \"@\"+ str(dealId) +\"@\"+ str(orderDay)+\"@\"+str(storeId)+\"@\"+str(level1Id)+\"@\"+str(name)"
   ]
  },
  {
   "cell_type": "markdown",
   "metadata": {},
   "source": [
    "## main"
   ]
  },
  {
   "cell_type": "code",
   "execution_count": 65,
   "metadata": {},
   "outputs": [],
   "source": [
    "findTrueLevel1_Id_List = []\n",
    "storeIdList = [0,1,2,3,4,7,8,11,158,663]\n",
    "monthList = [201911,201912, 202001,202002,202003,202004,202005,202006,202007,202008,202009, 202010, 202011]"
   ]
  },
  {
   "cell_type": "code",
   "execution_count": 66,
   "metadata": {},
   "outputs": [],
   "source": [
    "cli = set_client(\"friDay_outnet\")\n",
    "coll = cli.friDay.order_detail"
   ]
  },
  {
   "cell_type": "code",
   "execution_count": 86,
   "metadata": {},
   "outputs": [
    {
     "name": "stdout",
     "output_type": "stream",
     "text": [
      "202011\n",
      "Start Time:  2020-12-02 16:48:19\n",
      "End Time:  2020-12-02 16:48:55\n"
     ]
    }
   ],
   "source": [
    "month = 202011\n",
    "\n",
    "print(month)\n",
    "cur = coll.find({'ORDERMONTH':month})\n",
    "saveStr = \"\"\n",
    "fileNm = '/home/parallels/Desktop/friDay_weather_perfromance.csv'\n",
    "#colStr = 'orderid@dealId@orderDay@storeId@level1Id@name'\n",
    "#writeF.write(colStr+\"\\n\")\n",
    "print('Start Time: ', current_time())\n",
    "\n",
    "for x in cur:\n",
    "    if 'NEW_HOUSE_ID' in x:\n",
    "        storeId = int(x['NEW_HOUSE_ID']) #use this: for performance store\n",
    "        if storeId in storeIdList: #only get specific store product\n",
    "            orderId = x['ORDERID']\n",
    "            dealId = x['DEAL_ID']\n",
    "            orderDay = x['ORDERDAY']\n",
    "            memId = x['USERID']\n",
    "            #houseId = x['HOUSEID']\n",
    "            level1Id = x['LEVEL1_ID']\n",
    "            if dic[level1Id][2] == 0: # chech sth->不是全部Level1ID parentID 都是0\n",
    "                name = dic[level1Id][0] # map with prd_category->prd_category_name\n",
    "                tmpStr = str(orderId) +\"@\"+ str(memId) + \"@\"+ str(dealId) +\"@\"+ str(orderDay)+\"@\"+str(storeId)+\"@\"+str(level1Id)+\"@\"+str(name)\n",
    "                saveStr = tmpStr.strip()\n",
    "            else:\n",
    "                findTrueLevel1_Id_List.append(orderId)\n",
    "                print(orderId) #parentId -dic[level1Id][2]# 到category再查一次(dic)\n",
    "        try:\n",
    "            #writeF.write(saveStr+\"\\n\")\n",
    "            #print(saveStr)\n",
    "            append_list_as_row(fileNm, [saveStr])\n",
    "        except ValueError:\n",
    "            print('error: ', x['ORDERID'])\n",
    "print('End Time: ', current_time())"
   ]
  },
  {
   "cell_type": "code",
   "execution_count": 39,
   "metadata": {},
   "outputs": [],
   "source": [
    "def append_list_as_row(file_name, list_of_elem):\n",
    "    from csv import writer\n",
    "    # Open file in append mode\n",
    "    #row_contents = ['A@B@C']\n",
    "    with open(file_name, 'a+', newline='', encoding='utf8') as write_obj:\n",
    "        # Create a writer object from csv module\n",
    "        csv_writer = writer(write_obj)\n",
    "        # Add contents of list as last row in the csv file\n",
    "        csv_writer.writerow(list_of_elem)"
   ]
  },
  {
   "cell_type": "code",
   "execution_count": 48,
   "metadata": {},
   "outputs": [],
   "source": [
    "# test\n",
    "fileNm = '/home/parallels/Desktop/friDay_weather_perfromance.csv'\n",
    "\n",
    "tmpStr = [str('100') +\"@\"+ str('200') +\"@\"+ str('300')+\"@\"+str('400')+\"@\"+str('500')+\"@\"+str('600')]\n",
    "append_list_as_row(fileNm, tmpStr)"
   ]
  },
  {
   "cell_type": "code",
   "execution_count": 88,
   "metadata": {},
   "outputs": [
    {
     "data": {
      "text/plain": [
       "47"
      ]
     },
     "execution_count": 88,
     "metadata": {},
     "output_type": "execute_result"
    }
   ],
   "source": [
    "len(findTrueLevel1_Id_List)"
   ]
  },
  {
   "cell_type": "code",
   "execution_count": 89,
   "metadata": {},
   "outputs": [
    {
     "data": {
      "text/plain": [
       "[20191206571377,\n",
       " 20191210587727,\n",
       " 20191210587735,\n",
       " 20191209582413,\n",
       " 20191209583323,\n",
       " 20191210587710,\n",
       " 20200102678538,\n",
       " 20200106695372,\n",
       " 20200106696719,\n",
       " 20200106696726,\n",
       " 20200211846891,\n",
       " 20200211846894,\n",
       " 20200217868323,\n",
       " 20200227907774,\n",
       " 20200320998317,\n",
       " 20200406063018,\n",
       " 20200409075321,\n",
       " 20200420121275,\n",
       " 20200518223812,\n",
       " 20200518223822,\n",
       " 20200521234136,\n",
       " 20200521236212,\n",
       " 20200523243992,\n",
       " 20200521234146,\n",
       " 20200521234941,\n",
       " 20200523243460,\n",
       " 20200523244932,\n",
       " 20200525249074,\n",
       " 20200525249858,\n",
       " 20200526253097,\n",
       " 20200526255581,\n",
       " 20200528260790,\n",
       " 20200528260791,\n",
       " 20200527258393,\n",
       " 20200528262091,\n",
       " 20200529266831,\n",
       " 20200601275109,\n",
       " 20200608297988,\n",
       " 20200611308577,\n",
       " 20200608297933,\n",
       " 20200630371515,\n",
       " 20200709398610,\n",
       " 20200717422952,\n",
       " 20200717422957,\n",
       " 20200717423789,\n",
       " 20200721435509,\n",
       " 20200813510495]"
      ]
     },
     "execution_count": 89,
     "metadata": {},
     "output_type": "execute_result"
    }
   ],
   "source": [
    "findTrueLevel1_Id_List"
   ]
  },
  {
   "cell_type": "code",
   "execution_count": 76,
   "metadata": {},
   "outputs": [],
   "source": [
    "import csv\n",
    "file = open(\"/home/parallels/Desktop/friDay_weather_perfromance.csv\")\n",
    "reader = csv.reader(file)\n",
    "lines= len(list(reader))"
   ]
  },
  {
   "cell_type": "code",
   "execution_count": 74,
   "metadata": {},
   "outputs": [
    {
     "data": {
      "text/plain": [
       "326609"
      ]
     },
     "execution_count": 74,
     "metadata": {},
     "output_type": "execute_result"
    }
   ],
   "source": [
    "lines"
   ]
  },
  {
   "cell_type": "code",
   "execution_count": 77,
   "metadata": {},
   "outputs": [
    {
     "data": {
      "text/plain": [
       "440373"
      ]
     },
     "execution_count": 77,
     "metadata": {},
     "output_type": "execute_result"
    }
   ],
   "source": [
    "lines"
   ]
  },
  {
   "cell_type": "code",
   "execution_count": null,
   "metadata": {},
   "outputs": [],
   "source": []
  },
  {
   "cell_type": "markdown",
   "metadata": {},
   "source": [
    "## find level1ID"
   ]
  },
  {
   "cell_type": "code",
   "execution_count": null,
   "metadata": {},
   "outputs": [],
   "source": [
    "cur = coll.find({'ORDERID':20200106696726}, {\"LEVEL1_ID\":1})\n",
    "list(cur)"
   ]
  },
  {
   "cell_type": "code",
   "execution_count": null,
   "metadata": {},
   "outputs": [],
   "source": [
    "\n",
    "\n",
    "for i in findTrueLevel1_Id_List:\n",
    "    cur = coll.find({'ORDERID':i}, {\"LEVEL1_ID\"})\n",
    "    lis = list(cur)\n",
    "    level1Id = lis[0]['LEVEL1_ID']\n",
    "    stage1_parentId = dic[level1Id][2]\n",
    "    if stage1_parentId == 0:\n",
    "        name = \n",
    "    # go find name which parent is 0\n",
    "    "
   ]
  }
 ],
 "metadata": {
  "kernelspec": {
   "display_name": "Python 3",
   "language": "python",
   "name": "python3"
  },
  "language_info": {
   "codemirror_mode": {
    "name": "ipython",
    "version": 3
   },
   "file_extension": ".py",
   "mimetype": "text/x-python",
   "name": "python",
   "nbconvert_exporter": "python",
   "pygments_lexer": "ipython3",
   "version": "3.6.9"
  }
 },
 "nbformat": 4,
 "nbformat_minor": 2
}
